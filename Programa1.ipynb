{
  "nbformat": 4,
  "nbformat_minor": 0,
  "metadata": {
    "colab": {
      "provenance": [],
      "authorship_tag": "ABX9TyNaP++PyDYzIteyqKc941lJ",
      "include_colab_link": true
    },
    "kernelspec": {
      "name": "python3",
      "display_name": "Python 3"
    },
    "language_info": {
      "name": "python"
    }
  },
  "cells": [
    {
      "cell_type": "markdown",
      "metadata": {
        "id": "view-in-github",
        "colab_type": "text"
      },
      "source": [
        "<a href=\"https://colab.research.google.com/github/Andymlndz/ProgrmacionOO/blob/main/Programa1.ipynb\" target=\"_parent\"><img src=\"https://colab.research.google.com/assets/colab-badge.svg\" alt=\"Open In Colab\"/></a>"
      ]
    },
    {
      "cell_type": "code",
      "execution_count": 4,
      "metadata": {
        "colab": {
          "base_uri": "https://localhost:8080/"
        },
        "id": "3a6x0-Ri4HMn",
        "outputId": "a0c3bf46-ea3a-4443-9080-9514db788202"
      },
      "outputs": [
        {
          "output_type": "stream",
          "name": "stdout",
          "text": [
            "5 Hola mundo\n"
          ]
        }
      ],
      "source": [
        "# Declarar variables\n",
        "# En python no hsy necesidad de declarar el tipo de variable\n",
        "# Cuando se le asigna el valr, automaticamente python ya sabe que tipo es\n",
        "#python es CASE SENSITIVE es decir que es sensible a mayusculas a la hora de\n",
        "# declarar variables, por lo tanto no es lo mismo la variable x, que la variable X\n",
        "x=5\n",
        "msg=\"Hola mundo\"\n",
        "print(x,msg)"
      ]
    },
    {
      "cell_type": "code",
      "source": [
        "# Pthon es devilemente tipado, es decir, no hay necesidad de declarar el tipo de\n",
        "# variable\n",
        "print(type(X))\n",
        "X=\"Hola\"\n",
        "print(type(X))"
      ],
      "metadata": {
        "colab": {
          "base_uri": "https://localhost:8080/"
        },
        "id": "Cf1b_60p8RhN",
        "outputId": "9e4af10a-002e-4ac0-8ede-5472a592d57c"
      },
      "execution_count": 6,
      "outputs": [
        {
          "output_type": "stream",
          "name": "stdout",
          "text": [
            "<class 'str'>\n",
            "<class 'str'>\n"
          ]
        }
      ]
    },
    {
      "cell_type": "markdown",
      "source": [],
      "metadata": {
        "id": "S0HUr7bk4dDW"
      }
    },
    {
      "cell_type": "markdown",
      "source": [
        "# **Programación orietada a objetos**\n",
        "## **Unidad 1. Intriduccion  POO**\n",
        "### Maestro. Jose Gabriel Rodriguez Rivas\n",
        "### Alumno. Itzel Andrea Melendez Arrieta\n"
      ],
      "metadata": {
        "id": "9_C7YkQl4y0g"
      }
    }
  ]
}