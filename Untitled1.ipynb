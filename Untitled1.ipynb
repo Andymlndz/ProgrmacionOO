{
  "nbformat": 4,
  "nbformat_minor": 0,
  "metadata": {
    "colab": {
      "provenance": [],
      "authorship_tag": "ABX9TyMslQnb05qh1IAr1BVp2ta0",
      "include_colab_link": true
    },
    "kernelspec": {
      "name": "python3",
      "display_name": "Python 3"
    },
    "language_info": {
      "name": "python"
    }
  },
  "cells": [
    {
      "cell_type": "markdown",
      "metadata": {
        "id": "view-in-github",
        "colab_type": "text"
      },
      "source": [
        "<a href=\"https://colab.research.google.com/github/Andymlndz/ProgrmacionOO/blob/main/Untitled1.ipynb\" target=\"_parent\"><img src=\"https://colab.research.google.com/assets/colab-badge.svg\" alt=\"Open In Colab\"/></a>"
      ]
    },
    {
      "cell_type": "code",
      "execution_count": null,
      "metadata": {
        "colab": {
          "base_uri": "https://localhost:8080/"
        },
        "id": "tMAeykXcmrFz",
        "outputId": "1d726cfa-0ced-471a-a9fc-0ad80b23dfdd"
      },
      "outputs": [
        {
          "output_type": "stream",
          "name": "stdout",
          "text": [
            "a y b son iguales\n",
            "a y b valen =>  3000\n"
          ]
        }
      ],
      "source": [
        "a=3000\n",
        "b=3000\n",
        "if b > a:\n",
        "  print(\"b es mayor que a \")\n",
        "  print(\"b vale => \",b)\n",
        "elif a==b:\n",
        "    print(\"a y b son iguales\")\n",
        "    print(\"a y b valen => \",a)\n",
        "else:\n",
        "    print(\"a es mayor que b\")\n",
        "    print(\"a vale => \",a)\n",
        "    print(\"Fin del if\")\n",
        "\n"
      ]
    },
    {
      "cell_type": "code",
      "source": [
        "x=50\n",
        "y=60\n",
        "print(\"x es mayor que y \")if (x > y) else print(\"y es mayor que x\")"
      ],
      "metadata": {
        "colab": {
          "base_uri": "https://localhost:8080/"
        },
        "id": "5ezwdomxoYYt",
        "outputId": "fdb04e85-ccc1-4476-e14e-1cae3c4e6887"
      },
      "execution_count": null,
      "outputs": [
        {
          "output_type": "stream",
          "name": "stdout",
          "text": [
            "y es mayor que x\n"
          ]
        }
      ]
    },
    {
      "cell_type": "code",
      "source": [
        "i=1\n",
        "while i <= 10:\n",
        "  print(i)\n",
        "  i+=1\n",
        "print(\"fuera del while\")"
      ],
      "metadata": {
        "colab": {
          "base_uri": "https://localhost:8080/"
        },
        "id": "SLy0X2XppDWW",
        "outputId": "6148dd90-47d4-4a05-fbef-2664585afda8"
      },
      "execution_count": null,
      "outputs": [
        {
          "output_type": "stream",
          "name": "stdout",
          "text": [
            "1\n",
            "2\n",
            "3\n",
            "4\n",
            "5\n",
            "6\n",
            "7\n",
            "8\n",
            "9\n",
            "10\n",
            "fuera del while\n"
          ]
        }
      ]
    },
    {
      "cell_type": "code",
      "source": [
        "i=1\n",
        "while i <= 1000:\n",
        "  print(i)\n",
        "  if i== 10:\n",
        "    print(\"Entro al if\")\n",
        "    break\n",
        "  i+=1\n",
        "print(\"fuera del while\")"
      ],
      "metadata": {
        "colab": {
          "base_uri": "https://localhost:8080/"
        },
        "id": "lg7__LpHpw2d",
        "outputId": "619a2210-394e-4e4e-e375-dd1a6f299c74"
      },
      "execution_count": null,
      "outputs": [
        {
          "output_type": "stream",
          "name": "stdout",
          "text": [
            "1\n",
            "2\n",
            "3\n",
            "4\n",
            "5\n",
            "6\n",
            "7\n",
            "8\n",
            "9\n",
            "10\n",
            "Entro al if\n",
            "fuera del while\n"
          ]
        }
      ]
    },
    {
      "cell_type": "code",
      "source": [
        "while True:\n",
        "    print(\"\"\"Seleccione una opción\n",
        "    1) Opción 1\n",
        "    2) Opción 2\n",
        "    3) Salir\"\"\")\n",
        "    opcion = input(\"¿Cuál es la opción que deseas? \")\n",
        "    if opcion == \"1\":\n",
        "        print(\"Has seleccionado la opción 1 \\n\")\n",
        "    elif opcion == \"2\":\n",
        "        print(\"Has seleccionado la opción 2 \\n\")\n",
        "    elif opcion == \"3\":\n",
        "        print(\"Has seleccionado la opción 3 \\n\")\n",
        "        break\n",
        "    else:\n",
        "        print(\"Has seleccionado una opción incorrecta\")"
      ],
      "metadata": {
        "colab": {
          "base_uri": "https://localhost:8080/"
        },
        "id": "9cfT1L6crX7p",
        "outputId": "69c4777a-0072-4c1b-9fa5-4c317d5ab589"
      },
      "execution_count": 11,
      "outputs": [
        {
          "output_type": "stream",
          "name": "stdout",
          "text": [
            "Seleccione una opción\n",
            "    1) Opción 1\n",
            "    2) Opción 2\n",
            "    3) Salir\n",
            "¿Cuál es la opción que deseas? 1\n",
            "Has seleccionado la opción 1 \n",
            "\n",
            "Seleccione una opción\n",
            "    1) Opción 1\n",
            "    2) Opción 2\n",
            "    3) Salir\n",
            "¿Cuál es la opción que deseas? 3\n",
            "Has seleccionado la opción 3 \n",
            "\n"
          ]
        }
      ]
    },
    {
      "cell_type": "code",
      "source": [
        "for x in range(5):\n",
        "  print(x)"
      ],
      "metadata": {
        "colab": {
          "base_uri": "https://localhost:8080/"
        },
        "id": "6MQlXC-2unmU",
        "outputId": "911d79c3-c1e2-492a-b66c-ce73c402b80d"
      },
      "execution_count": 2,
      "outputs": [
        {
          "output_type": "stream",
          "name": "stdout",
          "text": [
            "0\n",
            "1\n",
            "2\n",
            "3\n",
            "4\n"
          ]
        }
      ]
    },
    {
      "cell_type": "code",
      "source": [
        "for z in range(2,5):\n",
        "  print(z)"
      ],
      "metadata": {
        "colab": {
          "base_uri": "https://localhost:8080/"
        },
        "id": "uRviwLmkv6j4",
        "outputId": "c04bffb2-139d-4c64-88b2-3716b5175eb8"
      },
      "execution_count": 6,
      "outputs": [
        {
          "output_type": "stream",
          "name": "stdout",
          "text": [
            "2\n",
            "3\n",
            "4\n"
          ]
        }
      ]
    },
    {
      "cell_type": "code",
      "source": [
        "for z in range(1, 25, 2):\n",
        "  print(z)"
      ],
      "metadata": {
        "colab": {
          "base_uri": "https://localhost:8080/"
        },
        "id": "mxaFztFSwQHk",
        "outputId": "6f5fb059-dce8-48f1-9184-ae4120528e11"
      },
      "execution_count": 8,
      "outputs": [
        {
          "output_type": "stream",
          "name": "stdout",
          "text": [
            "1\n",
            "3\n",
            "5\n",
            "7\n",
            "9\n",
            "11\n",
            "13\n",
            "15\n",
            "17\n",
            "19\n",
            "21\n",
            "23\n"
          ]
        }
      ]
    },
    {
      "cell_type": "code",
      "source": [
        "print(\"La instrucccion break\")\n",
        "variables = True #variable de tipo boleana\n",
        "for i in range(1,6):\n",
        "   print(\"Esto es un print dentro de un for\")\n",
        "   if variables:\n",
        "     print(\"Entro al if\")\n",
        "     break\n",
        "print(\"Fuera del for\")\n"
      ],
      "metadata": {
        "colab": {
          "base_uri": "https://localhost:8080/"
        },
        "id": "FwjMP-s2wnf_",
        "outputId": "885aaa2c-2fd8-4bc4-c2d4-ef21c8fd4357"
      },
      "execution_count": 9,
      "outputs": [
        {
          "output_type": "stream",
          "name": "stdout",
          "text": [
            "La instrucccion break\n",
            "Esto es un print dentro de un for\n",
            "Entro al if\n",
            "Fuera del for\n"
          ]
        }
      ]
    },
    {
      "cell_type": "code",
      "source": [
        "print(\"Fuera del bucle\")\n",
        "print(\"\\n La instruccion continue: \")\n",
        "for i in range(1, 6):\n",
        "  if i == 3:\n",
        "    continue\n",
        "  print(\"Dentro del bucle\",i)\n",
        "print(\"Fuera del bucle\")"
      ],
      "metadata": {
        "colab": {
          "base_uri": "https://localhost:8080/"
        },
        "id": "Aw-03jNgyPug",
        "outputId": "b9d25365-2a7c-438d-8749-3cc43f7d8eba"
      },
      "execution_count": 12,
      "outputs": [
        {
          "output_type": "stream",
          "name": "stdout",
          "text": [
            "Fuera del bucle\n",
            "\n",
            " La instruccion continue: \n",
            "Dentro del bucle 1\n",
            "Dentro del bucle 2\n",
            "Dentro del bucle 4\n",
            "Dentro del bucle 5\n",
            "Fuera del bucle\n"
          ]
        }
      ]
    },
    {
      "cell_type": "code",
      "source": [
        "frutas = [\"platano\", \"naranja\", \"manzana\"]\n",
        "for x in frutas:\n",
        "  print(x)\n",
        "  if x == \"naranja\":\n",
        "    break"
      ],
      "metadata": {
        "colab": {
          "base_uri": "https://localhost:8080/"
        },
        "id": "x9KRVOguzlHY",
        "outputId": "53467820-28f1-4b84-d5d0-d618e21f63c3"
      },
      "execution_count": 13,
      "outputs": [
        {
          "output_type": "stream",
          "name": "stdout",
          "text": [
            "platano\n",
            "naranja\n"
          ]
        }
      ]
    },
    {
      "cell_type": "code",
      "source": [
        "n = 0\n",
        "while n != 3:\n",
        "  print(n)\n",
        "  n += 1\n",
        "else:\n",
        "  print(n, \"else\")\n",
        "print() #Para generar linea en blanco\n",
        "for i in range(0,3):\n",
        "  print(i)\n",
        "else:\n",
        "  print(i, \"else\")"
      ],
      "metadata": {
        "colab": {
          "base_uri": "https://localhost:8080/"
        },
        "id": "7KFrbj5F0cid",
        "outputId": "89e24162-f516-4dfa-d74b-54a2f0386006"
      },
      "execution_count": 14,
      "outputs": [
        {
          "output_type": "stream",
          "name": "stdout",
          "text": [
            "0\n",
            "1\n",
            "2\n",
            "3 else\n",
            "\n",
            "0\n",
            "1\n",
            "2\n",
            "2 else\n"
          ]
        }
      ]
    },
    {
      "cell_type": "code",
      "source": [
        "def funcion_saludar():\n",
        "  print(\"Hola mundo, desde mi funcion\")"
      ],
      "metadata": {
        "id": "HmM2Ipwj2Xk9"
      },
      "execution_count": 16,
      "outputs": []
    },
    {
      "cell_type": "code",
      "source": [
        "def tablas_multiplicar(x):\n",
        "  for z in range(1, 11):\n",
        "    print(x, \"x\", z, \"=\", x*z)\n",
        "  print(\"\\n Fin desde mi funcion\")\n",
        "\n"
      ],
      "metadata": {
        "id": "4aXTkTRF3dUX"
      },
      "execution_count": 23,
      "outputs": []
    },
    {
      "cell_type": "code",
      "source": [
        "tablas_multiplicar(2)"
      ],
      "metadata": {
        "colab": {
          "base_uri": "https://localhost:8080/"
        },
        "id": "o30dOVVT4Egq",
        "outputId": "49d139f7-0862-48d9-f937-260ac8407bef"
      },
      "execution_count": 24,
      "outputs": [
        {
          "output_type": "stream",
          "name": "stdout",
          "text": [
            "2 x 1 = 2\n",
            "2 x 2 = 4\n",
            "2 x 3 = 6\n",
            "2 x 4 = 8\n",
            "2 x 5 = 10\n",
            "2 x 6 = 12\n",
            "2 x 7 = 14\n",
            "2 x 8 = 16\n",
            "2 x 9 = 18\n",
            "2 x 10 = 20\n",
            "\n",
            " Fin desde mi funcion\n"
          ]
        }
      ]
    }
  ]
}